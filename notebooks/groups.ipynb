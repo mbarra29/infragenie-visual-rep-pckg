{
 "cells": [
  {
   "cell_type": "markdown",
   "metadata": {},
   "source": [
    "# Group Distribution\n",
    "\n",
    "In this notebook, I will distribute the twelve participants in two even and balanced groups.\n",
    "To do so I'll randomly assign participants to groups and check their balance with either the [**Student t-test**](https://www.datacamp.com/tutorial/an-introduction-to-python-t-tests) or the [**Mann and Whitney U test**](https://www.geeksforgeeks.org/mann-and-whitney-u-test/) using their answers in the Profile Questionnaire available [here](https://forms.gle/PwTLW2NpdHNK8YAW7).\n",
    "\n",
    "The test used to check the statistical equivalence of the formed groups are defined by if the sample of each question answers follows a normal distribution for both groups or not. The normality of the answers is verified with the [**Shapiro-Wilk test**](https://www.geeksforgeeks.org/how-to-perform-a-shapiro-wilk-test-in-python/). \n",
    "\n",
    "The links for the tutorials I followed to apply each test are available by clicking each test name on the paragraphs before.\n",
    "\n",
    "First we do the necessary imports to complete this task."
   ]
  },
  {
   "cell_type": "code",
   "execution_count": 21,
   "metadata": {},
   "outputs": [],
   "source": [
    "import random\n",
    "from scipy.stats import shapiro, ttest_ind, mannwhitneyu\n",
    "import pandas as pd\n",
    "import numpy as np\n",
    "import matplotlib.pyplot as plt\n",
    "import seaborn as sns\n",
    "import plot_likert as pl"
   ]
  },
  {
   "cell_type": "markdown",
   "metadata": {},
   "source": [
    "The participants object defined below constains the hashed name of each participant and their answers to these questions (available in the form linked before):\n",
    "- **Q1**: Do you have any professional experience in Software Development? \n",
    "  - No => *0*\n",
    "  - Less than 1 year => *1*\n",
    "  - 1 to 2 years => *2*\n",
    "  - 2 to 4 years => *3*\n",
    "  - 4 to 6 years => *4*\n",
    "  - 6 or more years => *5*\n",
    "- **Q2**: I have experience with tools that allow the creation of diagrams from plain text or code (e.g. PlantUML, Mermaid.JS, others). \n",
    "  - Answers in *Likert* scale from *1 to 5*\n",
    "- Q3: I have experience with tools that allow the creation of diagrams through a visual editor (e.g. draw.io, Lucidchart, others)\n",
    "  - Answers in *Likert* scale from *1* to *5* \n",
    "- Q4: I am familiar with with the Unified Modelling Language (UML).\n",
    "  - Answers in *Likert* scale from *1* to *5*\n",
    "- Q5: I have experience creating architecture diagrams.\n",
    "  - Answers in *Likert* scale from *1* to *5*\n",
    "\n",
    "To anonymize the partipant names, we used the **hashlib** python library. The hashed names are a 6 characters string (3 bytes).\n",
    "\n",
    "The correspondance between hash value and person name was stored locally for easier identification of participants for the experiment session organization."
   ]
  },
  {
   "cell_type": "code",
   "execution_count": 22,
   "metadata": {},
   "outputs": [
    {
     "name": "stdout",
     "output_type": "stream",
     "text": [
      "Number of participants:  12\n",
      "Number of groups:  2\n",
      "Participants per group:  6.0\n"
     ]
    }
   ],
   "source": [
    "participants = [\n",
    "    {\"name\": \"c3e7b6\", \"expID\": \"\", \"answers\": [1, 1, 4, 4, 3]},\n",
    "    {\"name\": \"e4b32b\", \"expID\": \"\", \"answers\": [1, 1, 5, 5, 4]},\n",
    "    {\"name\": \"9b4f8f\", \"expID\": \"\", \"answers\": [0, 3, 4, 4, 4]},\n",
    "    {\"name\": \"a4a843\", \"expID\": \"\", \"answers\": [1, 4, 5, 4, 4]},\n",
    "    {\"name\": \"be7d2d\", \"expID\": \"\", \"answers\": [1, 1, 4, 4, 3]},\n",
    "    {\"name\": \"d1401b\", \"expID\": \"\", \"answers\": [4, 2, 5, 4, 2]},\n",
    "    {\"name\": \"8c1894\", \"expID\": \"\", \"answers\": [0, 2, 4, 5, 4]},\n",
    "    {\"name\": \"029958\", \"expID\": \"\", \"answers\": [3, 4, 5, 5, 4]},\n",
    "    {\"name\": \"4893e4\", \"expID\": \"\", \"answers\": [4, 2, 5, 5, 5]},\n",
    "    {\"name\": \"1e31b2\", \"expID\": \"\", \"answers\": [3, 1, 5, 5, 5]},\n",
    "    {\"name\": \"4553bc\", \"expID\": \"\", \"answers\": [4, 2, 5, 5, 5]},\n",
    "    {\"name\": \"0fdd0a\", \"expID\": \"\", \"answers\": [3, 2, 5, 5, 4]},\n",
    "]\n",
    "\n",
    "numberOfGroups = 2\n",
    "membersPerGroup = len(participants) / numberOfGroups\n",
    "\n",
    "print(\"Number of participants: \", len(participants))\n",
    "print(\"Number of groups: \", numberOfGroups)\n",
    "print(\"Participants per group: \", membersPerGroup)"
   ]
  },
  {
   "cell_type": "markdown",
   "metadata": {},
   "source": [
    "After constructing the participants object we randomly attribute groups to each partipant."
   ]
  },
  {
   "cell_type": "code",
   "execution_count": 23,
   "metadata": {},
   "outputs": [
    {
     "name": "stdout",
     "output_type": "stream",
     "text": [
      "Control Group (CG):  ['a4a843', '029958', '8c1894', '4893e4', 'be7d2d', '4553bc']\n",
      "Experimental Group (EG):  ['c3e7b6', 'e4b32b', '9b4f8f', 'd1401b', '1e31b2', '0fdd0a']\n"
     ]
    }
   ],
   "source": [
    "control = random.sample(participants, int(membersPerGroup))\n",
    "experimental = [x for x in participants if x not in control]\n",
    "\n",
    "print(\"Control Group (CG): \", [x[\"name\"] for x in control])\n",
    "print(\"Experimental Group (EG): \", [x[\"name\"] for x in experimental])"
   ]
  },
  {
   "cell_type": "markdown",
   "metadata": {},
   "source": [
    "## Data Analysis\n",
    "\n",
    "Next, we analyze the results of the profile questionnaire and verify the balance between randomly formed groups.\n",
    "\n",
    "First, we need to change the group constitution to the randomly assigned group that was actually used in the experiment. \n",
    "\n",
    "(In the first run of this notebook, the group used was the one randomly generated)."
   ]
  },
  {
   "cell_type": "code",
   "execution_count": 24,
   "metadata": {},
   "outputs": [
    {
     "name": "stdout",
     "output_type": "stream",
     "text": [
      "CG:  ['c3e7b6', '9b4f8f', 'd1401b', '8c1894', '1e31b2', '0fdd0a']\n",
      "EG:  ['e4b32b', 'a4a843', 'be7d2d', '029958', '4893e4', '4553bc']\n"
     ]
    }
   ],
   "source": [
    "control = [participants[0], participants[2], participants[5], participants[6], participants[9], participants[11]]\n",
    "experimental = [x for x in participants if x not in control]\n",
    "\n",
    "print(\"CG: \", [x[\"name\"] for x in control])\n",
    "print(\"EG: \", [x[\"name\"] for x in experimental])"
   ]
  },
  {
   "cell_type": "markdown",
   "metadata": {},
   "source": [
    "Then we attribute the assigned experiment ID to each participant."
   ]
  },
  {
   "cell_type": "code",
   "execution_count": 25,
   "metadata": {},
   "outputs": [
    {
     "name": "stdout",
     "output_type": "stream",
     "text": [
      "CG:  ['c3e7b6 SB2', '9b4f8f SB5', 'd1401b SB6', '8c1894 SB3', '1e31b2 SB1', '0fdd0a SB4']\n",
      "EG:  ['e4b32b WM4', 'a4a843 WM2', 'be7d2d WM5', '029958 WM6', '4893e4 WM3', '4553bc WM1']\n"
     ]
    }
   ],
   "source": [
    "for p in control:\n",
    "    assignedID = \"SB\"\n",
    "    num = \"0\"\n",
    "\n",
    "    match p[\"name\"]:\n",
    "        case \"c3e7b6\":\n",
    "            num = \"2\"\n",
    "        case \"9b4f8f\":\n",
    "            num = \"5\"\n",
    "        case \"d1401b\":\n",
    "            num = \"6\"\n",
    "        case \"8c1894\":\n",
    "            num = \"3\"\n",
    "        case \"1e31b2\":\n",
    "            num = \"1\"\n",
    "        case \"0fdd0a\":\n",
    "            num = \"4\"\n",
    "    \n",
    "    p[\"expID\"] = assignedID + num\n",
    "\n",
    "\n",
    "for p in experimental:\n",
    "    assignedID = \"WM\"\n",
    "    num = \"0\"\n",
    "\n",
    "    match p[\"name\"]:\n",
    "        case \"e4b32b\":\n",
    "            num = \"4\"\n",
    "        case \"a4a843\":\n",
    "            num = \"2\"\n",
    "        case \"be7d2d\":\n",
    "            num = \"5\"\n",
    "        case \"029958\":\n",
    "            num = \"6\"\n",
    "        case \"4893e4\":\n",
    "            num = \"3\"\n",
    "        case \"4553bc\":\n",
    "            num = \"1\"\n",
    "\n",
    "    p[\"expID\"] = assignedID + num\n",
    "\n",
    "\n",
    "print(\"CG: \", [x[\"name\"] + \" \" + x[\"expID\"] for x in control])\n",
    "print(\"EG: \", [x[\"name\"] + \" \" + x[\"expID\"] for x in experimental])"
   ]
  },
  {
   "cell_type": "markdown",
   "metadata": {},
   "source": [
    "After that, we check the balance between the groups using the Student t-test or Mann Whitney U test for the values of each answer.\n",
    "To define which test to use first, we need to run the Shapiro-Wilk test to determine whether the answers follow normal distributions.\n",
    "\n",
    "First, we define the functions to execute the statistical tests."
   ]
  },
  {
   "cell_type": "code",
   "execution_count": 26,
   "metadata": {},
   "outputs": [],
   "source": [
    "def testShapiroWilk(CGQuestionAnswers, EGQuestionAnswers, alpha = 0.05, debug = False):\n",
    "    CGNormal = False\n",
    "    EGNormal = False\n",
    "\n",
    "    _, pCG = shapiro(CGQuestionAnswers)\n",
    "    _, pEG = shapiro(EGQuestionAnswers)\n",
    "\n",
    "    CGNormal = pCG > alpha\n",
    "    EGNormal = pEG > alpha\n",
    "\n",
    "    if (debug): \n",
    "        print(f\"(ShapiroWilk) CG Normal? {\"Yes\" if CGNormal else \"No\"} - EG Normal? {\"Yes\" if EGNormal else \"No\"}\") \n",
    "        \n",
    "    return CGNormal, EGNormal\n",
    "\n",
    "def testMannWhitneyU(CGQuestionAnswers, EGQuestionAnswers, alpha = 0.05, debug = False):\n",
    "    stat, p_value = mannwhitneyu(CGQuestionAnswers, EGQuestionAnswers)\n",
    "    if (debug): print(\"(MWu) Statistics=%.2f, p=%.2f\" % (stat, p_value))\n",
    "\n",
    "    return (p_value > alpha) # Return true if there is no significant difference between the groups (accept null hypothesis); False otherwise\n",
    "\n",
    "def testTTest(CGQuestionAnswers, EGQuestionAnswers, alpha = 0.05, alt=\"two-sided\", debug = False):\n",
    "    # alt can be \"two-sided\", \"greater\" or \"less\"\n",
    "    stat, p_value = ttest_ind(CGQuestionAnswers, EGQuestionAnswers, alternative=alt)\n",
    "    if (debug): print(\"(t_test) Statistics=%.2f, p=%.2f\" % (stat, p_value))\n",
    "\n",
    "    return (p_value > alpha) # Return true if there is no significant difference between the groups (accept null hypothesis); False otherwise\n",
    "\n",
    "def testStatisticalDifference(CGQuestionAnswers, EGQuestionAnswers, alpha = 0.05, altTTest=\"two-sided\", debug = False):\n",
    "    CGNormal, EGNormal = testShapiroWilk(CGQuestionAnswers, EGQuestionAnswers, alpha, debug)\n",
    "\n",
    "    if (CGNormal and EGNormal):\n",
    "        # If both normal do t_test\n",
    "        print(f\"Both groups follow normal distribution\")\n",
    "        print(f\"(t_test) Significant statiscal difference? {\"No\" if testTTest(CGQuestionAnswers, EGQuestionAnswers, alpha, altTTest, debug) else \"Yes\"}\")\n",
    "    else:\n",
    "        # Else do Mann-Whitney U test\n",
    "        print(f\"At least one of the groups doesn't follow normal distribution\")\n",
    "        print(f\"(MWu) Significant statiscal difference? {\"No\" if  testMannWhitneyU(CGQuestionAnswers, EGQuestionAnswers, alpha, debug) else \"Yes\"}\")"
   ]
  },
  {
   "cell_type": "markdown",
   "metadata": {},
   "source": [
    "Then, we create lists for all answers to each question."
   ]
  },
  {
   "cell_type": "code",
   "execution_count": 27,
   "metadata": {},
   "outputs": [],
   "source": [
    "CGAnswers = {\n",
    "    \"q1\": [x[\"answers\"][0] for x in control],\n",
    "    \"q2\": [x[\"answers\"][1] for x in control],\n",
    "    \"q3\": [x[\"answers\"][2] for x in control],\n",
    "    \"q4\": [x[\"answers\"][3] for x in control],\n",
    "    \"q5\": [x[\"answers\"][4] for x in control],\n",
    "}\n",
    "\n",
    "EGAnswers = {\n",
    "    \"q1\": [x[\"answers\"][0] for x in experimental],\n",
    "    \"q2\": [x[\"answers\"][1] for x in experimental],\n",
    "    \"q3\": [x[\"answers\"][2] for x in experimental],\n",
    "    \"q4\": [x[\"answers\"][3] for x in experimental],\n",
    "    \"q5\": [x[\"answers\"][4] for x in experimental],\n",
    "}"
   ]
  },
  {
   "cell_type": "markdown",
   "metadata": {},
   "source": [
    "After that, we execute the statistical difference test for each of the questions and print the relvant data.\n",
    "\n",
    "If both answers follow a normal distributions, a t-test is executed, if not a Mann-Whitney U test is ran.\n",
    "\n",
    "The Null Hipothesis refered below is **\"There is no significant difference between groups\"**. \n",
    "- If we **reject** it, it means that the difference between the groups is significant, and therefore the groups are **not balanced**.\n",
    "- If we **accept** it, it means that the differences between groups are not significant, so the groups are **balanced** and therefore usable for the experiment."
   ]
  },
  {
   "cell_type": "code",
   "execution_count": 28,
   "metadata": {},
   "outputs": [
    {
     "name": "stdout",
     "output_type": "stream",
     "text": [
      "Question q1 ----\n",
      "(ShapiroWilk) CG Normal? Yes - EG Normal? No\n",
      "At least one of the groups doesn't follow normal distribution\n",
      "(MWu) Statistics=13.50, p=0.51\n",
      "(MWu) Significant statiscal difference? No\n",
      "Question q2 ----\n",
      "(ShapiroWilk) CG Normal? Yes - EG Normal? Yes\n",
      "Both groups follow normal distribution\n",
      "(t_test) Statistics=-0.79, p=0.45\n",
      "(t_test) Significant statiscal difference? No\n",
      "Question q3 ----\n",
      "(ShapiroWilk) CG Normal? No - EG Normal? No\n",
      "At least one of the groups doesn't follow normal distribution\n",
      "(MWu) Statistics=12.00, p=0.28\n",
      "(MWu) Significant statiscal difference? No\n",
      "Question q4 ----\n",
      "(ShapiroWilk) CG Normal? No - EG Normal? No\n",
      "At least one of the groups doesn't follow normal distribution\n",
      "(MWu) Statistics=15.00, p=0.64\n",
      "(MWu) Significant statiscal difference? No\n",
      "Question q5 ----\n",
      "(ShapiroWilk) CG Normal? Yes - EG Normal? Yes\n",
      "Both groups follow normal distribution\n",
      "(t_test) Statistics=-0.96, p=0.36\n",
      "(t_test) Significant statiscal difference? No\n"
     ]
    }
   ],
   "source": [
    "for question in CGAnswers:\n",
    "    print(f\"Question {question} ----\")\n",
    "    testStatisticalDifference(CGAnswers[question], EGAnswers[question], debug=True)"
   ]
  },
  {
   "cell_type": "markdown",
   "metadata": {},
   "source": [
    "As the results for each question reveal that there are no significant differences between the groups, we can conclude that the groups are **evenly balanced**.\n",
    "\n",
    "With that conclusion, we can create plots to visually represent the results obtained with the form."
   ]
  },
  {
   "cell_type": "code",
   "execution_count": 29,
   "metadata": {},
   "outputs": [],
   "source": [
    "# Defining colors for the plots\n",
    "\n",
    "color_plantuml = '#FE5F55'\n",
    "color_visual = '#8CDEDC'\n",
    "\n",
    "groupPallete = [color_plantuml, color_visual]\n",
    "colorsLikert = ['#ffffff00', \"#d83939\", \"#df8383\", \"#fcf39a\", \"#7bc37b\", \"#50a158\"]"
   ]
  },
  {
   "cell_type": "markdown",
   "metadata": {},
   "source": [
    "### Professional Experience in Software Engineering\n",
    "\n",
    "A dataframe is created so that we can easily generate a histogram (countplot) about the professional experiences of the participants.\n",
    "\n",
    "The results are presented by group."
   ]
  },
  {
   "cell_type": "code",
   "execution_count": 30,
   "metadata": {},
   "outputs": [
    {
     "data": {
      "text/html": [
       "<div>\n",
       "<style scoped>\n",
       "    .dataframe tbody tr th:only-of-type {\n",
       "        vertical-align: middle;\n",
       "    }\n",
       "\n",
       "    .dataframe tbody tr th {\n",
       "        vertical-align: top;\n",
       "    }\n",
       "\n",
       "    .dataframe thead th {\n",
       "        text-align: right;\n",
       "    }\n",
       "</style>\n",
       "<table border=\"1\" class=\"dataframe\">\n",
       "  <thead>\n",
       "    <tr style=\"text-align: right;\">\n",
       "      <th></th>\n",
       "      <th>group</th>\n",
       "      <th>Q1</th>\n",
       "    </tr>\n",
       "  </thead>\n",
       "  <tbody>\n",
       "    <tr>\n",
       "      <th>1</th>\n",
       "      <td>Control</td>\n",
       "      <td>None</td>\n",
       "    </tr>\n",
       "    <tr>\n",
       "      <th>3</th>\n",
       "      <td>Control</td>\n",
       "      <td>None</td>\n",
       "    </tr>\n",
       "    <tr>\n",
       "      <th>0</th>\n",
       "      <td>Control</td>\n",
       "      <td>Less than 1 year</td>\n",
       "    </tr>\n",
       "    <tr>\n",
       "      <th>6</th>\n",
       "      <td>Experimental</td>\n",
       "      <td>Less than 1 year</td>\n",
       "    </tr>\n",
       "    <tr>\n",
       "      <th>7</th>\n",
       "      <td>Experimental</td>\n",
       "      <td>Less than 1 year</td>\n",
       "    </tr>\n",
       "    <tr>\n",
       "      <th>8</th>\n",
       "      <td>Experimental</td>\n",
       "      <td>Less than 1 year</td>\n",
       "    </tr>\n",
       "    <tr>\n",
       "      <th>4</th>\n",
       "      <td>Control</td>\n",
       "      <td>2 to 4 years</td>\n",
       "    </tr>\n",
       "    <tr>\n",
       "      <th>5</th>\n",
       "      <td>Control</td>\n",
       "      <td>2 to 4 years</td>\n",
       "    </tr>\n",
       "    <tr>\n",
       "      <th>9</th>\n",
       "      <td>Experimental</td>\n",
       "      <td>2 to 4 years</td>\n",
       "    </tr>\n",
       "    <tr>\n",
       "      <th>2</th>\n",
       "      <td>Control</td>\n",
       "      <td>4 to 6 years</td>\n",
       "    </tr>\n",
       "    <tr>\n",
       "      <th>10</th>\n",
       "      <td>Experimental</td>\n",
       "      <td>4 to 6 years</td>\n",
       "    </tr>\n",
       "    <tr>\n",
       "      <th>11</th>\n",
       "      <td>Experimental</td>\n",
       "      <td>4 to 6 years</td>\n",
       "    </tr>\n",
       "  </tbody>\n",
       "</table>\n",
       "</div>"
      ],
      "text/plain": [
       "           group                Q1\n",
       "1        Control              None\n",
       "3        Control              None\n",
       "0        Control  Less than 1 year\n",
       "6   Experimental  Less than 1 year\n",
       "7   Experimental  Less than 1 year\n",
       "8   Experimental  Less than 1 year\n",
       "4        Control      2 to 4 years\n",
       "5        Control      2 to 4 years\n",
       "9   Experimental      2 to 4 years\n",
       "2        Control      4 to 6 years\n",
       "10  Experimental      4 to 6 years\n",
       "11  Experimental      4 to 6 years"
      ]
     },
     "execution_count": 30,
     "metadata": {},
     "output_type": "execute_result"
    }
   ],
   "source": [
    "dfProfExperience = pd.DataFrame()\n",
    "\n",
    "dfProfExperience[\"q1\"] = CGAnswers[\"q1\"] + EGAnswers[\"q1\"]\n",
    "dfProfExperience[\"group\"] = [\"Control\"] * len(CGAnswers[\"q1\"]) + [\"Experimental\"] * len(EGAnswers[\"q1\"])\n",
    "dfProfExperience.sort_values(by=\"q1\", inplace=True)\n",
    "\n",
    "experienceDict = { 0: \"None\", 1: \"Less than 1 year\", 2: \"1 to 2 years\", 3: \"2 to 4 years\", 4: \"4 to 6 years\", 5: \"6 or more years\"}\n",
    "newAnswersCol = []\n",
    "\n",
    "for idx in dfProfExperience.index:\n",
    "    value = dfProfExperience[\"q1\"][idx]\n",
    "    newAnswersCol.append(experienceDict[value])\n",
    "    \n",
    "dfProfExperience.drop(\"q1\", axis=1, inplace=True)\n",
    "dfProfExperience[\"Q1\"] = newAnswersCol\n",
    "\n",
    "\n",
    "dfProfExperience"
   ]
  },
  {
   "cell_type": "code",
   "execution_count": 31,
   "metadata": {},
   "outputs": [
    {
     "data": {
      "image/png": "[encoded data removed]",
      "text/plain": [
       "<Figure size 640x480 with 1 Axes>"
      ]
     },
     "metadata": {},
     "output_type": "display_data"
    }
   ],
   "source": [
    "prof_exp_plot = sns.countplot(data=dfProfExperience, x=\"Q1\", hue=\"group\",palette=groupPallete) # mostrar tabela apenas para este\n",
    "sns.move_legend(prof_exp_plot, \"upper right\", title=\"Group\")"
   ]
  },
  {
   "cell_type": "markdown",
   "metadata": {},
   "source": [
    "### Experience with languages and tools\n",
    "\n",
    "The next set of questions gathered answers in the Likert scale with values from 1-5.\n",
    "\n",
    "At this stage, we create dataframes for each group answers and then generate likert plots with the **plot_likert** library to better visualize the answers given by participants."
   ]
  },
  {
   "cell_type": "code",
   "execution_count": 32,
   "metadata": {},
   "outputs": [],
   "source": [
    "likertScaleDict = {1: 'Strongly Disagree', 2: 'Disagree', 3: 'Neither', 4: 'Agree', 5: 'Strongly Agree'}\n",
    "\n",
    "likertScale = [x for x in likertScaleDict.values()]\n",
    "\n",
    "questionTexts = {\"q1\": \"Professional Experience\", \"q2\": \"PlantUML or others\", \"q3\": \"Visual editors\", \"q4\": \"UML Language\", \"q5\": \"Architecture Diagrams\"}"
   ]
  },
  {
   "cell_type": "code",
   "execution_count": 33,
   "metadata": {},
   "outputs": [
    {
     "data": {
      "text/html": [
       "<div>\n",
       "<style scoped>\n",
       "    .dataframe tbody tr th:only-of-type {\n",
       "        vertical-align: middle;\n",
       "    }\n",
       "\n",
       "    .dataframe tbody tr th {\n",
       "        vertical-align: top;\n",
       "    }\n",
       "\n",
       "    .dataframe thead th {\n",
       "        text-align: right;\n",
       "    }\n",
       "</style>\n",
       "<table border=\"1\" class=\"dataframe\">\n",
       "  <thead>\n",
       "    <tr style=\"text-align: right;\">\n",
       "      <th></th>\n",
       "      <th>Q2</th>\n",
       "      <th>Q3</th>\n",
       "      <th>Q4</th>\n",
       "      <th>Q5</th>\n",
       "    </tr>\n",
       "  </thead>\n",
       "  <tbody>\n",
       "    <tr>\n",
       "      <th>0</th>\n",
       "      <td>Strongly Disagree</td>\n",
       "      <td>Agree</td>\n",
       "      <td>Agree</td>\n",
       "      <td>Neither</td>\n",
       "    </tr>\n",
       "    <tr>\n",
       "      <th>1</th>\n",
       "      <td>Neither</td>\n",
       "      <td>Agree</td>\n",
       "      <td>Agree</td>\n",
       "      <td>Agree</td>\n",
       "    </tr>\n",
       "    <tr>\n",
       "      <th>2</th>\n",
       "      <td>Disagree</td>\n",
       "      <td>Strongly Agree</td>\n",
       "      <td>Agree</td>\n",
       "      <td>Disagree</td>\n",
       "    </tr>\n",
       "    <tr>\n",
       "      <th>3</th>\n",
       "      <td>Disagree</td>\n",
       "      <td>Agree</td>\n",
       "      <td>Strongly Agree</td>\n",
       "      <td>Agree</td>\n",
       "    </tr>\n",
       "    <tr>\n",
       "      <th>4</th>\n",
       "      <td>Strongly Disagree</td>\n",
       "      <td>Strongly Agree</td>\n",
       "      <td>Strongly Agree</td>\n",
       "      <td>Strongly Agree</td>\n",
       "    </tr>\n",
       "    <tr>\n",
       "      <th>5</th>\n",
       "      <td>Disagree</td>\n",
       "      <td>Strongly Agree</td>\n",
       "      <td>Strongly Agree</td>\n",
       "      <td>Agree</td>\n",
       "    </tr>\n",
       "  </tbody>\n",
       "</table>\n",
       "</div>"
      ],
      "text/plain": [
       "                  Q2              Q3              Q4              Q5\n",
       "0  Strongly Disagree           Agree           Agree         Neither\n",
       "1            Neither           Agree           Agree           Agree\n",
       "2           Disagree  Strongly Agree           Agree        Disagree\n",
       "3           Disagree           Agree  Strongly Agree           Agree\n",
       "4  Strongly Disagree  Strongly Agree  Strongly Agree  Strongly Agree\n",
       "5           Disagree  Strongly Agree  Strongly Agree           Agree"
      ]
     },
     "execution_count": 33,
     "metadata": {},
     "output_type": "execute_result"
    }
   ],
   "source": [
    "likertCG = pd.DataFrame()\n",
    "\n",
    "\n",
    "for q in CGAnswers:\n",
    "    if q == \"q1\": continue\n",
    "\n",
    "    answers = []\n",
    "    for answer in CGAnswers[q]:\n",
    "        answers.append(likertScaleDict[answer])\n",
    "    \n",
    "    likertCG[q.upper()] = answers\n",
    "\n",
    "likertCG"
   ]
  },
  {
   "cell_type": "code",
   "execution_count": 34,
   "metadata": {},
   "outputs": [
    {
     "data": {
      "text/html": [
       "<div>\n",
       "<style scoped>\n",
       "    .dataframe tbody tr th:only-of-type {\n",
       "        vertical-align: middle;\n",
       "    }\n",
       "\n",
       "    .dataframe tbody tr th {\n",
       "        vertical-align: top;\n",
       "    }\n",
       "\n",
       "    .dataframe thead th {\n",
       "        text-align: right;\n",
       "    }\n",
       "</style>\n",
       "<table border=\"1\" class=\"dataframe\">\n",
       "  <thead>\n",
       "    <tr style=\"text-align: right;\">\n",
       "      <th></th>\n",
       "      <th>Q2</th>\n",
       "      <th>Q3</th>\n",
       "      <th>Q4</th>\n",
       "      <th>Q5</th>\n",
       "    </tr>\n",
       "  </thead>\n",
       "  <tbody>\n",
       "    <tr>\n",
       "      <th>0</th>\n",
       "      <td>Strongly Disagree</td>\n",
       "      <td>Strongly Agree</td>\n",
       "      <td>Strongly Agree</td>\n",
       "      <td>Agree</td>\n",
       "    </tr>\n",
       "    <tr>\n",
       "      <th>1</th>\n",
       "      <td>Agree</td>\n",
       "      <td>Strongly Agree</td>\n",
       "      <td>Agree</td>\n",
       "      <td>Agree</td>\n",
       "    </tr>\n",
       "    <tr>\n",
       "      <th>2</th>\n",
       "      <td>Strongly Disagree</td>\n",
       "      <td>Agree</td>\n",
       "      <td>Agree</td>\n",
       "      <td>Neither</td>\n",
       "    </tr>\n",
       "    <tr>\n",
       "      <th>3</th>\n",
       "      <td>Agree</td>\n",
       "      <td>Strongly Agree</td>\n",
       "      <td>Strongly Agree</td>\n",
       "      <td>Agree</td>\n",
       "    </tr>\n",
       "    <tr>\n",
       "      <th>4</th>\n",
       "      <td>Disagree</td>\n",
       "      <td>Strongly Agree</td>\n",
       "      <td>Strongly Agree</td>\n",
       "      <td>Strongly Agree</td>\n",
       "    </tr>\n",
       "    <tr>\n",
       "      <th>5</th>\n",
       "      <td>Disagree</td>\n",
       "      <td>Strongly Agree</td>\n",
       "      <td>Strongly Agree</td>\n",
       "      <td>Strongly Agree</td>\n",
       "    </tr>\n",
       "  </tbody>\n",
       "</table>\n",
       "</div>"
      ],
      "text/plain": [
       "                  Q2              Q3              Q4              Q5\n",
       "0  Strongly Disagree  Strongly Agree  Strongly Agree           Agree\n",
       "1              Agree  Strongly Agree           Agree           Agree\n",
       "2  Strongly Disagree           Agree           Agree         Neither\n",
       "3              Agree  Strongly Agree  Strongly Agree           Agree\n",
       "4           Disagree  Strongly Agree  Strongly Agree  Strongly Agree\n",
       "5           Disagree  Strongly Agree  Strongly Agree  Strongly Agree"
      ]
     },
     "execution_count": 34,
     "metadata": {},
     "output_type": "execute_result"
    }
   ],
   "source": [
    "likertEG = pd.DataFrame()\n",
    "\n",
    "for q in EGAnswers:\n",
    "    if q == \"q1\": continue\n",
    "\n",
    "    answers = []\n",
    "    for answer in EGAnswers[q]:\n",
    "        answers.append(likertScaleDict[answer])\n",
    "    \n",
    "    likertEG[q.upper()] = answers\n",
    "\n",
    "likertEG"
   ]
  },
  {
   "cell_type": "code",
   "execution_count": 35,
   "metadata": {},
   "outputs": [
    {
     "name": "stderr",
     "output_type": "stream",
     "text": [
      "c:\\Users\\Matilde Barra\\AppData\\Local\\Programs\\Python\\Python312\\Lib\\site-packages\\plot_likert\\plot_likert.py:257: FutureWarning: DataFrame.applymap has been deprecated. Use DataFrame.map instead.\n",
      "  df.applymap(validate)\n",
      "c:\\Users\\Matilde Barra\\AppData\\Local\\Programs\\Python\\Python312\\Lib\\site-packages\\plot_likert\\plot_likert.py:257: FutureWarning: DataFrame.applymap has been deprecated. Use DataFrame.map instead.\n",
      "  df.applymap(validate)\n"
     ]
    },
    {
     "data": {
      "image/png": "[encoded data removed]",
      "text/plain": [
       "<Figure size 1500x500 with 2 Axes>"
      ]
     },
     "metadata": {},
     "output_type": "display_data"
    }
   ],
   "source": [
    "# The plots are made this way so that both are visible at the same time\n",
    "fig, (cG,eG) = plt.subplots(1, 2, figsize=(15,5))\n",
    "\n",
    "pl.plot_likert(likertCG, colors=colorsLikert, plot_scale=likertScale, title=\"Control Group - Experience with tools / activities\", ax=cG, legend=False)\n",
    "pl.plot_likert(likertEG,  colors=colorsLikert, plot_scale=likertScale, title=\"Experimental Group - Experience with tools / activities\", ax=eG, legend=False)\n",
    "\n",
    "# display a single legend for the whole figure\n",
    "handles, labels = eG.get_legend_handles_labels()\n",
    "fig.legend(handles, labels, loc='upper right', bbox_to_anchor=(1.025, 0.9))\n",
    "plt.show()"
   ]
  },
  {
   "cell_type": "markdown",
   "metadata": {},
   "source": [
    "The means and standard deviations of the results are also calculated to allow for better understanding of the answers distributions.\n",
    "\n",
    "Then a histogram is made with the mean values. "
   ]
  },
  {
   "cell_type": "code",
   "execution_count": 36,
   "metadata": {},
   "outputs": [
    {
     "data": {
      "text/html": [
       "<div>\n",
       "<style scoped>\n",
       "    .dataframe tbody tr th:only-of-type {\n",
       "        vertical-align: middle;\n",
       "    }\n",
       "\n",
       "    .dataframe tbody tr th {\n",
       "        vertical-align: top;\n",
       "    }\n",
       "\n",
       "    .dataframe thead th {\n",
       "        text-align: right;\n",
       "    }\n",
       "</style>\n",
       "<table border=\"1\" class=\"dataframe\">\n",
       "  <thead>\n",
       "    <tr style=\"text-align: right;\">\n",
       "      <th></th>\n",
       "      <th>Mean</th>\n",
       "      <th>StDev</th>\n",
       "    </tr>\n",
       "    <tr>\n",
       "      <th>Question</th>\n",
       "      <th></th>\n",
       "      <th></th>\n",
       "    </tr>\n",
       "  </thead>\n",
       "  <tbody>\n",
       "    <tr>\n",
       "      <th>Professional Experience</th>\n",
       "      <td>1.83</td>\n",
       "      <td>1.57</td>\n",
       "    </tr>\n",
       "    <tr>\n",
       "      <th>PlantUML or others</th>\n",
       "      <td>1.83</td>\n",
       "      <td>0.69</td>\n",
       "    </tr>\n",
       "    <tr>\n",
       "      <th>Visual editors</th>\n",
       "      <td>4.50</td>\n",
       "      <td>0.50</td>\n",
       "    </tr>\n",
       "    <tr>\n",
       "      <th>UML Language</th>\n",
       "      <td>4.50</td>\n",
       "      <td>0.50</td>\n",
       "    </tr>\n",
       "    <tr>\n",
       "      <th>Architecture Diagrams</th>\n",
       "      <td>3.67</td>\n",
       "      <td>0.94</td>\n",
       "    </tr>\n",
       "  </tbody>\n",
       "</table>\n",
       "</div>"
      ],
      "text/plain": [
       "                         Mean  StDev\n",
       "Question                            \n",
       "Professional Experience  1.83   1.57\n",
       "PlantUML or others       1.83   0.69\n",
       "Visual editors           4.50   0.50\n",
       "UML Language             4.50   0.50\n",
       "Architecture Diagrams    3.67   0.94"
      ]
     },
     "execution_count": 36,
     "metadata": {},
     "output_type": "execute_result"
    }
   ],
   "source": [
    "meansCGAnswers = []\n",
    "stdevCGAnswers = []\n",
    "\n",
    "for q in CGAnswers:\n",
    "    meansCGAnswers.append(round(np.mean(CGAnswers[q]), 2))\n",
    "    stdevCGAnswers.append(round(np.std(CGAnswers[q]), 2))\n",
    "\n",
    "statisticDataCGAnswers = {\n",
    "    \"Question\": list(questionTexts.values()),\n",
    "    \"Mean\": meansCGAnswers,\n",
    "    \"StDev\": stdevCGAnswers\n",
    "}\n",
    "\n",
    "df_statsCGAnswers = pd.DataFrame(statisticDataCGAnswers, columns=['Question', 'Mean', 'StDev'])\n",
    "df_statsCGAnswers.set_index('Question', inplace=True)\n",
    "df_statsCGAnswers"
   ]
  },
  {
   "cell_type": "code",
   "execution_count": 37,
   "metadata": {},
   "outputs": [
    {
     "data": {
      "text/html": [
       "<div>\n",
       "<style scoped>\n",
       "    .dataframe tbody tr th:only-of-type {\n",
       "        vertical-align: middle;\n",
       "    }\n",
       "\n",
       "    .dataframe tbody tr th {\n",
       "        vertical-align: top;\n",
       "    }\n",
       "\n",
       "    .dataframe thead th {\n",
       "        text-align: right;\n",
       "    }\n",
       "</style>\n",
       "<table border=\"1\" class=\"dataframe\">\n",
       "  <thead>\n",
       "    <tr style=\"text-align: right;\">\n",
       "      <th></th>\n",
       "      <th>Mean</th>\n",
       "      <th>StDev</th>\n",
       "    </tr>\n",
       "    <tr>\n",
       "      <th>Question</th>\n",
       "      <th></th>\n",
       "      <th></th>\n",
       "    </tr>\n",
       "  </thead>\n",
       "  <tbody>\n",
       "    <tr>\n",
       "      <th>Professional Experience</th>\n",
       "      <td>2.33</td>\n",
       "      <td>1.37</td>\n",
       "    </tr>\n",
       "    <tr>\n",
       "      <th>PlantUML or others</th>\n",
       "      <td>2.33</td>\n",
       "      <td>1.25</td>\n",
       "    </tr>\n",
       "    <tr>\n",
       "      <th>Visual editors</th>\n",
       "      <td>4.83</td>\n",
       "      <td>0.37</td>\n",
       "    </tr>\n",
       "    <tr>\n",
       "      <th>UML Language</th>\n",
       "      <td>4.67</td>\n",
       "      <td>0.47</td>\n",
       "    </tr>\n",
       "    <tr>\n",
       "      <th>Architecture Diagrams</th>\n",
       "      <td>4.17</td>\n",
       "      <td>0.69</td>\n",
       "    </tr>\n",
       "  </tbody>\n",
       "</table>\n",
       "</div>"
      ],
      "text/plain": [
       "                         Mean  StDev\n",
       "Question                            \n",
       "Professional Experience  2.33   1.37\n",
       "PlantUML or others       2.33   1.25\n",
       "Visual editors           4.83   0.37\n",
       "UML Language             4.67   0.47\n",
       "Architecture Diagrams    4.17   0.69"
      ]
     },
     "execution_count": 37,
     "metadata": {},
     "output_type": "execute_result"
    }
   ],
   "source": [
    "meansEGAnswers = []\n",
    "stdevEGAnswers = []\n",
    "\n",
    "for q in EGAnswers:\n",
    "    meansEGAnswers.append(round(np.mean(EGAnswers[q]), 2))\n",
    "    stdevEGAnswers.append(round(np.std(EGAnswers[q]), 2))\n",
    "\n",
    "statisticDataEGAnswers = {\n",
    "    \"Question\": list(questionTexts.values()),\n",
    "    \"Mean\": meansEGAnswers,\n",
    "    \"StDev\": stdevEGAnswers\n",
    "}\n",
    "\n",
    "df_statsEGAnswers = pd.DataFrame(statisticDataEGAnswers, columns=['Question', 'Mean', 'StDev'])\n",
    "df_statsEGAnswers.set_index('Question', inplace=True)\n",
    "df_statsEGAnswers"
   ]
  },
  {
   "cell_type": "code",
   "execution_count": 38,
   "metadata": {},
   "outputs": [
    {
     "data": {
      "text/plain": [
       "<matplotlib.legend.Legend at 0x19a7bcf61b0>"
      ]
     },
     "execution_count": 38,
     "metadata": {},
     "output_type": "execute_result"
    },
    {
     "data": {
      "image/png": "[encoded data removed]",
      "text/plain": [
       "<Figure size 1000x500 with 1 Axes>"
      ]
     },
     "metadata": {},
     "output_type": "display_data"
    }
   ],
   "source": [
    "indices = np.arange(len(df_statsCGAnswers))\n",
    "\n",
    "bar_width = 0.35\n",
    "\n",
    "plt.figure(figsize=(10, 5))\n",
    "plt.bar(indices, df_statsCGAnswers['Mean'], bar_width, color=color_plantuml, alpha=0.85, label='Control')\n",
    "plt.bar(indices + bar_width, df_statsEGAnswers['Mean'], bar_width, color=color_visual, alpha=0.85, label='Experimental')\n",
    "\n",
    "plt.title('Mean score of each Profile question (from 0 - 5)')\n",
    "plt.xlabel('Question')\n",
    "plt.ylabel('Mean')\n",
    "plt.xticks(indices + bar_width / 2, df_statsCGAnswers.index)\n",
    "plt.legend(loc='upper left', title='Group')"
   ]
  },
  {
   "cell_type": "markdown",
   "metadata": {},
   "source": [
    "The plots generated and statistics calculated in this notebook are used for the discussion in **Chapter 6** (Empirical Study) of my **Masters' Dissertation** (A Visual Editor for Creating Living Software Architecture Documentation)."
   ]
  }
 ],
 "metadata": {
  "kernelspec": {
   "display_name": "Python 3",
   "language": "python",
   "name": "python3"
  },
  "language_info": {
   "codemirror_mode": {
    "name": "ipython",
    "version": 3
   },
   "file_extension": ".py",
   "mimetype": "text/x-python",
   "name": "python",
   "nbconvert_exporter": "python",
   "pygments_lexer": "ipython3",
   "version": "3.12.2"
  }
 },
 "nbformat": 4,
 "nbformat_minor": 2
}
